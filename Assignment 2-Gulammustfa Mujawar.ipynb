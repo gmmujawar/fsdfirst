{
 "cells": [
  {
   "cell_type": "code",
   "execution_count": 5,
   "metadata": {},
   "outputs": [
    {
     "name": "stdout",
     "output_type": "stream",
     "text": [
      "Enter your name : ineuron\n",
      "Reverse output your name is : norueni\n"
     ]
    }
   ],
   "source": [
    "#Write a Python program to reverse a word after accepting the input from the user.\n",
    "\n",
    "fn = str(input('Enter your name : '))\n",
    "print ('Reverse output your name is :' , fn[::-1] )\n"
   ]
  },
  {
   "cell_type": "code",
   "execution_count": 30,
   "metadata": {},
   "outputs": [
    {
     "name": "stdout",
     "output_type": "stream",
     "text": [
      "\r\n",
      "*\r\n",
      "**\r\n",
      "***\r\n",
      "****\r\n",
      "*****\r\n",
      "****\r\n",
      "***\r\n",
      "**\r\n",
      "*\r\n"
     ]
    }
   ],
   "source": [
    "#Create the below pattern using nested for loop in Python.\n",
    "a= 5\n",
    "for i in range(0,a,1):\n",
    "    for j in range(0,i):\n",
    "        print(\"*\", end='')\n",
    "    print(\"\\r\")\n",
    "for i in range(a,0,-1):\n",
    "    for j in range(0,i):\n",
    "        print(\"*\", end='')\n",
    "    print(\"\\r\")"
   ]
  },
  {
   "cell_type": "code",
   "execution_count": null,
   "metadata": {},
   "outputs": [],
   "source": []
  }
 ],
 "metadata": {
  "kernelspec": {
   "display_name": "Python 3",
   "language": "python",
   "name": "python3"
  },
  "language_info": {
   "codemirror_mode": {
    "name": "ipython",
    "version": 3
   },
   "file_extension": ".py",
   "mimetype": "text/x-python",
   "name": "python",
   "nbconvert_exporter": "python",
   "pygments_lexer": "ipython3",
   "version": "3.8.5"
  }
 },
 "nbformat": 4,
 "nbformat_minor": 4
}
